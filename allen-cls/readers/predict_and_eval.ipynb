{
 "cells": [
  {
   "cell_type": "code",
   "execution_count": 1,
   "metadata": {},
   "outputs": [],
   "source": [
    "import numpy as np\n",
    "import torch\n",
    "from overrides import overrides\n",
    "from typing import Iterable, Dict, List\n",
    "import jsonlines\n",
    "import warnings\n",
    "\n",
    "from allennlp.models.archival import load_archive\n",
    "# from allennlp.models.basic_classifier import BasicClassifier\n",
    "# from allennlp.modules.seq2vec_encoders.cnn_encoder import CnnEncoder\n",
    "# from allennlp.modules import FeedForward, Seq2SeqEncoder, Seq2VecEncoder, TextFieldEmbedder\n",
    "from allennlp.predictors import Predictor #, TextClassifierPredictor\n",
    "\n",
    "from allennlp.data import DatasetReader, Instance, TokenIndexer, Vocabulary #Tokenizer,\n",
    "from allennlp.data.token_indexers import SingleIdTokenIndexer\n",
    "from allennlp.data.tokenizers import Token #, Tokenizer, WordTokenizer\n",
    "from allennlp.data.fields import MetadataField, TextField, LabelField\n",
    "\n",
    "from allennlp.common.util import JsonDict\n",
    "\n",
    "\n"
   ]
  },
  {
   "cell_type": "code",
   "execution_count": 2,
   "metadata": {},
   "outputs": [],
   "source": [
    "class ModalityDatasetReader(DatasetReader):\n",
    "    def __init__(self, token_indexers: Dict[str, TokenIndexer] = None) -> None:\n",
    "        super().__init__()\n",
    "        self._token_indexers = token_indexers or {'tokens': SingleIdTokenIndexer()}\n",
    "\n",
    "    def _read(self, file_path: str) -> Iterable[Instance]:\n",
    "        logger.info(\"Reading Modal Sense instances from {}\".format(file_path))\n",
    "        with open(file_path,\"r\") as file:\n",
    "            for line in file:\n",
    "                json_line = json.loads(line)\n",
    "                json_line.pop(\"modal_verb\", None)\n",
    "                yield self.sentence_to_instance(**json_line)\n",
    "    \n",
    "    @overrides\n",
    "    def text_to_instance(self, sentence:List[str], label:str=None) -> Instance:\n",
    "        instance_dict = {\"tokens\": TextField(sentence, self._token_indexers)}\n",
    "        \n",
    "        if label is not None:\n",
    "            instance_dict[\"label\"] = LabelField(label)\n",
    "\n",
    "        return Instance(instance_dict)"
   ]
  },
  {
   "cell_type": "code",
   "execution_count": 3,
   "metadata": {},
   "outputs": [],
   "source": [
    "class ModalityPredictor(Predictor):\n",
    "\n",
    "    @overrides\n",
    "    def _json_to_instance(self, json_dict: JsonDict) -> Instance:\n",
    "        sentence = json_dict[\"tokens\"]\n",
    "        if not hasattr(self._dataset_reader, \"tokenizer\") and not hasattr(\n",
    "            self._dataset_reader, \"_tokenizer\"\n",
    "        ):\n",
    "            sentence = [Token(t) for t in sentence.split()]            \n",
    "        return self._dataset_reader.text_to_instance(sentence=sentence)\n",
    "\n",
    "    \n",
    "    def predict(self, sentence: str) -> JsonDict:\n",
    "        return self.predict_json({\"tokens\": sentence})"
   ]
  },
  {
   "cell_type": "code",
   "execution_count": 4,
   "metadata": {},
   "outputs": [],
   "source": [
    "def reset_mv_and_labels_counts(targets):\n",
    "    modal_targets = {t: {\"total\": 0, \"errors\": 0} for t in targets}\n",
    "\n",
    "    labels = {\n",
    "        \"dy\": {\"total\": 0, \"errors\": 0},\n",
    "        \"de\": {\"total\": 0, \"errors\": 0},\n",
    "        \"ep\": {\"total\": 0, \"errors\": 0}\n",
    "    }\n",
    "    return modal_targets, labels"
   ]
  },
  {
   "cell_type": "code",
   "execution_count": 57,
   "metadata": {
    "scrolled": true
   },
   "outputs": [],
   "source": [
    "def collect_errors_and_accuarcy(predictor, filepath, labels_golds):\n",
    "    with jsonlines.open(filepath, \"r\") as src:\n",
    "        all_modal_targets = {line['modal_verb'].lower() for line in src}\n",
    "        modal_verbs, labels = reset_mv_and_labels_counts(all_modal_targets)\n",
    "    with jsonlines.open(filepath, \"r\") as test:\n",
    "        predictions, golds = [], []\n",
    "        for line in test:\n",
    "            try:\n",
    "                sentence = line[\"sentence\"] if len(line[\"sentence\"].split()) > 4 else line[\"sentence\"] + \". . . \"\n",
    "                prediction = predictor.predict(sentence=sentence)\n",
    "                predicted_label = prediction[\"label\"]\n",
    "                gold = line[\"label\"]\n",
    "                mv = line[\"modal_verb\"].lower()\n",
    "                if mv == \"shall\": # in EPOS and MASC the 'shall' instances have wrong json lines\n",
    "                    continue\n",
    "                modal_verbs[mv][\"total\"] += 1\n",
    "                try:\n",
    "                    labels[gold][\"total\"] += 1\n",
    "                except:\n",
    "                    print(gold, line)\n",
    "                    continue\n",
    "                if gold != predicted_label:\n",
    "                    modal_verbs[mv][\"errors\"] += 1\n",
    "                    labels[gold][\"errors\"] += 1\n",
    "                predictions.append(prediction[\"probs\"])\n",
    "                golds.append(labels_golds[gold])\n",
    "            except RuntimeError:\n",
    "                sent, l = line[\"sentence\"], line[\"label\"]\n",
    "                warnings.warn(f\"sentence too short: {sent}, {l}\")\n",
    "\n",
    "        print(accuracy(np.array(predictions), np.array(golds)))\n",
    "        for mv, count in modal_verbs.items():\n",
    "            if count[\"total\"] > 0:\n",
    "                modal_verbs[mv][\"proportion\"] = count[\"errors\"] / count[\"total\"]\n",
    "                \n",
    "        for label, count in labels.items():\n",
    "            if count[\"total\"] > 0:\n",
    "                labels[label][\"proportion\"] = count[\"errors\"] / count[\"total\"]\n",
    "    return  modal_verbs, labels"
   ]
  },
  {
   "cell_type": "code",
   "execution_count": 59,
   "metadata": {},
   "outputs": [],
   "source": [
    "def get_label_golds(predictor, model_name):    \n",
    "    if \"gme\" in model_name.lower():\n",
    "        labels_golds = {\n",
    "            \"dy\": \"all birds can fly in the winter\",\n",
    "            \"ep\": \"it could have gone somewhere\",\n",
    "            \"de\": \"you must wash your hands\"\n",
    "        }        \n",
    "    elif \"epos\" in model_name.lower():\n",
    "        labels_golds = {\n",
    "            \"dy\": \"I hope we can still convince people of this and make progress\",\n",
    "            \"ep\": \"It must have been stillborn .\",\n",
    "            \"de\": \"The evil is real , and it must be combated\"\n",
    "        }\n",
    "    \n",
    "    \n",
    "    for sense, sentence in labels_golds.items():\n",
    "        prediction = predictor.predict(sentence=sentence)\n",
    "        probs = prediction[\"probs\"]\n",
    "        sense_index = probs.index(max(probs))\n",
    "        labels_golds[sense] = [0 if x != sense_index else 1 for x in range(3) ]\n",
    "    return labels_golds\n",
    "    "
   ]
  },
  {
   "cell_type": "code",
   "execution_count": 7,
   "metadata": {},
   "outputs": [],
   "source": [
    "def accuracy(predictions, labels):\n",
    "    return 100.0 * np.sum(np.argmax(predictions, 1) == np.argmax(labels, 1)) / predictions.shape[0]"
   ]
  },
  {
   "cell_type": "code",
   "execution_count": 38,
   "metadata": {},
   "outputs": [],
   "source": [
    "def eval_model(model_name, test_filepath,device=1):\n",
    "    archive = load_archive(f\"../../models/{model_name}/model.tar.gz\", cuda_device=device)  \n",
    "    model = archive.model\n",
    "    model.eval()\n",
    "    predictor = ModalityPredictor(model, dataset_reader=ModalityDatasetReader())\n",
    "    label_golds = get_label_golds(predictor=predictor, model_name=model_name)\n",
    "    return collect_errors_and_accuarcy(predictor, test_filepath,label_golds )"
   ]
  },
  {
   "cell_type": "code",
   "execution_count": 91,
   "metadata": {},
   "outputs": [
    {
     "name": "stderr",
     "output_type": "stream",
     "text": [
      "Did not use initialization regex that was passed: .*linear_layers.*weight\n"
     ]
    },
    {
     "name": "stdout",
     "output_type": "stream",
     "text": [
      "{'logits': [0.09839901328086853, -0.5935354828834534, 0.7567489147186279], 'probs': [0.29135751724243164, 0.14585553109645844, 0.5627869367599487], 'label': 'dy'} {'dy': [0, 0, 1], 'ep': 'it could have gone somewhere', 'de': 'you must wash your hands'}\n",
      "{'logits': [-0.3284309208393097, 0.17560245096683502, 0.18500059843063354], 'probs': [0.23113901913166046, 0.3826240003108978, 0.38623693585395813], 'label': 'dy'} {'dy': [0, 0, 1], 'ep': [0, 0, 1], 'de': 'you must wash your hands'}\n",
      "{'logits': [-0.031949542462825775, -0.16448062658309937, 0.21305033564567566], 'probs': [0.31710830330848694, 0.2777474522590637, 0.40514427423477173], 'label': 'dy'} {'dy': [0, 0, 1], 'ep': [0, 0, 1], 'de': [0, 0, 1]}\n",
      "2.912621359223301\n"
     ]
    },
    {
     "data": {
      "text/plain": [
       "({'should': {'total': 34, 'errors': 15, 'proportion': 0.4411764705882353},\n",
       "  'could': {'total': 23, 'errors': 17, 'proportion': 0.7391304347826086},\n",
       "  'must': {'total': 17, 'errors': 7, 'proportion': 0.4117647058823529},\n",
       "  'may': {'total': 5, 'errors': 2, 'proportion': 0.4},\n",
       "  'can': {'total': 24, 'errors': 16, 'proportion': 0.6666666666666666}},\n",
       " {'dy': {'total': 31, 'errors': 28, 'proportion': 0.9032258064516129},\n",
       "  'de': {'total': 58, 'errors': 28, 'proportion': 0.4827586206896552},\n",
       "  'ep': {'total': 14, 'errors': 1, 'proportion': 0.07142857142857142}})"
      ]
     },
     "execution_count": 91,
     "metadata": {},
     "output_type": "execute_result"
    }
   ],
   "source": [
    "eval_model(model_name=\"rnn_gme_all\", test_filepath=\"../../data/GME/test_modal-BIOSE-coarse_only_modal_verbs.jsonl\")"
   ]
  },
  {
   "cell_type": "code",
   "execution_count": 90,
   "metadata": {
    "scrolled": true
   },
   "outputs": [
    {
     "name": "stderr",
     "output_type": "stream",
     "text": [
      "Did not use initialization regex that was passed: .*linear_layers.*weight\n"
     ]
    },
    {
     "name": "stdout",
     "output_type": "stream",
     "text": [
      "{'logits': [0.09839901328086853, -0.5935354828834534, 0.7567489147186279], 'probs': [0.29135751724243164, 0.14585553109645844, 0.5627869367599487], 'label': 'dy'} {'dy': [0, 0, 1], 'ep': 'it could have gone somewhere', 'de': 'you must wash your hands'}\n",
      "{'logits': [-0.3284309208393097, 0.17560245096683502, 0.18500059843063354], 'probs': [0.23113901913166046, 0.3826240003108978, 0.38623693585395813], 'label': 'dy'} {'dy': [0, 0, 1], 'ep': [0, 0, 1], 'de': 'you must wash your hands'}\n",
      "{'logits': [-0.031949542462825775, -0.16448062658309937, 0.21305033564567566], 'probs': [0.31710830330848694, 0.2777474522590637, 0.40514427423477173], 'label': 'dy'} {'dy': [0, 0, 1], 'ep': [0, 0, 1], 'de': [0, 0, 1]}\n",
      "6.094182825484765\n"
     ]
    },
    {
     "data": {
      "text/plain": [
       "({'should': {'total': 28, 'errors': 14, 'proportion': 0.5},\n",
       "  'could': {'total': 38, 'errors': 17, 'proportion': 0.4473684210526316},\n",
       "  'must': {'total': 117, 'errors': 60, 'proportion': 0.5128205128205128},\n",
       "  'may': {'total': 123, 'errors': 28, 'proportion': 0.22764227642276422},\n",
       "  'can': {'total': 55, 'errors': 42, 'proportion': 0.7636363636363637},\n",
       "  'shall': {'total': 0, 'errors': 0}},\n",
       " {'dy': {'total': 53, 'errors': 42, 'proportion': 0.7924528301886793},\n",
       "  'de': {'total': 113, 'errors': 60, 'proportion': 0.5309734513274337},\n",
       "  'ep': {'total': 195, 'errors': 59, 'proportion': 0.30256410256410254}})"
      ]
     },
     "execution_count": 90,
     "metadata": {},
     "output_type": "execute_result"
    }
   ],
   "source": [
    "eval_model(model_name=\"rnn_gme_all\", test_filepath=\"../../data/EPOS_E/test_EPOS+MPQA_re-balanced.jsonl\")"
   ]
  },
  {
   "cell_type": "code",
   "execution_count": 77,
   "metadata": {
    "scrolled": true
   },
   "outputs": [
    {
     "name": "stderr",
     "output_type": "stream",
     "text": [
      "Did not use initialization regex that was passed: .*linear_layers.*weight\n"
     ]
    },
    {
     "name": "stdout",
     "output_type": "stream",
     "text": [
      "{'logits': [0.09839901328086853, -0.5935354828834534, 0.7567489147186279], 'probs': [0.29135751724243164, 0.14585553109645844, 0.5627869367599487], 'label': 'dy'} {'dy': [0, 0, 1], 'ep': 'it could have gone somewhere', 'de': 'you must wash your hands'}\n",
      "{'logits': [-0.3284309208393097, 0.17560245096683502, 0.18500059843063354], 'probs': [0.23113901913166046, 0.3826240003108978, 0.38623693585395813], 'label': 'dy'} {'dy': [0, 0, 1], 'ep': [0, 0, 1], 'de': 'you must wash your hands'}\n",
      "{'logits': [-0.031949542462825775, -0.16448062658309937, 0.21305033564567566], 'probs': [0.31710830330848694, 0.2777474522590637, 0.40514427423477173], 'label': 'dy'} {'dy': [0, 0, 1], 'ep': [0, 0, 1], 'de': [0, 0, 1]}\n",
      "6.094182825484765\n"
     ]
    },
    {
     "data": {
      "text/plain": [
       "({'should': {'total': 28, 'errors': 14, 'proportion': 0.5},\n",
       "  'could': {'total': 38, 'errors': 17, 'proportion': 0.4473684210526316},\n",
       "  'must': {'total': 117, 'errors': 60, 'proportion': 0.5128205128205128},\n",
       "  'may': {'total': 123, 'errors': 28, 'proportion': 0.22764227642276422},\n",
       "  'can': {'total': 55, 'errors': 42, 'proportion': 0.7636363636363637},\n",
       "  'shall': {'total': 0, 'errors': 0}},\n",
       " {'dy': {'total': 53, 'errors': 42, 'proportion': 0.7924528301886793},\n",
       "  'de': {'total': 113, 'errors': 60, 'proportion': 0.5309734513274337},\n",
       "  'ep': {'total': 195, 'errors': 59, 'proportion': 0.30256410256410254}})"
      ]
     },
     "execution_count": 77,
     "metadata": {},
     "output_type": "execute_result"
    }
   ],
   "source": [
    "eval_model(model_name=\"rnn_gme_all\", test_filepath=\"../../data/EPOS_E/test_EPOS+MPQA_re-balanced.jsonl\")"
   ]
  },
  {
   "cell_type": "code",
   "execution_count": 68,
   "metadata": {},
   "outputs": [
    {
     "name": "stderr",
     "output_type": "stream",
     "text": [
      "Did not use initialization regex that was passed: .*linear_layers.*weight\n"
     ]
    },
    {
     "name": "stdout",
     "output_type": "stream",
     "text": [
      "{'logits': [-0.13299435377120972, 0.5873146653175354, -0.5189329385757446], 'probs': [0.2677461802959442, 0.550236701965332, 0.18201713263988495], 'label': 'dy'} {'dy': [0, 1, 0], 'ep': 'it could have gone somewhere', 'de': 'you must wash your hands'}\n",
      "{'logits': [-0.32890403270721436, 0.4845108389854431, -0.14231166243553162], 'probs': [0.22417837381362915, 0.5056561827659607, 0.27016544342041016], 'label': 'dy'} {'dy': [0, 1, 0], 'ep': [0, 1, 0], 'de': 'you must wash your hands'}\n",
      "{'logits': [0.5168034434318542, -0.06670152395963669, -0.7430666089057922], 'probs': [0.5429971814155579, 0.30295950174331665, 0.15404334664344788], 'label': 'de'} {'dy': [0, 1, 0], 'ep': [0, 1, 0], 'de': [1, 0, 0]}\n",
      "83.49514563106796\n"
     ]
    },
    {
     "data": {
      "text/plain": [
       "({'should': {'total': 34, 'errors': 3, 'proportion': 0.08823529411764706},\n",
       "  'could': {'total': 23, 'errors': 14, 'proportion': 0.6086956521739131},\n",
       "  'must': {'total': 17, 'errors': 0, 'proportion': 0.0},\n",
       "  'may': {'total': 5, 'errors': 4, 'proportion': 0.8},\n",
       "  'can': {'total': 24, 'errors': 7, 'proportion': 0.2916666666666667}},\n",
       " {'dy': {'total': 31, 'errors': 7, 'proportion': 0.22580645161290322},\n",
       "  'de': {'total': 58, 'errors': 7, 'proportion': 0.1206896551724138},\n",
       "  'ep': {'total': 14, 'errors': 14, 'proportion': 1.0}})"
      ]
     },
     "execution_count": 68,
     "metadata": {},
     "output_type": "execute_result"
    }
   ],
   "source": [
    "eval_model(model_name=\"cnn_gme_only_modal_verbs\", test_filepath=\"../../data/GME/test_modal-BIOSE-coarse_only_modal_verbs.jsonl\")"
   ]
  },
  {
   "cell_type": "code",
   "execution_count": 73,
   "metadata": {},
   "outputs": [
    {
     "name": "stderr",
     "output_type": "stream",
     "text": [
      "Did not use initialization regex that was passed: .*linear_layers.*weight\n"
     ]
    },
    {
     "name": "stdout",
     "output_type": "stream",
     "text": [
      "{'logits': [-0.952390730381012, -0.9419597387313843, 1.464697241783142], 'probs': [0.07562211900949478, 0.0764150619506836, 0.8479628562927246], 'label': 'dy'} {'dy': [0, 0, 1], 'ep': 'it could have gone somewhere', 'de': 'you must wash your hands'}\n",
      "{'logits': [-1.0116074085235596, 0.44092532992362976, 0.4288536608219147], 'probs': [0.10530120134353638, 0.4500495195388794, 0.444649338722229], 'label': 'ep'} {'dy': [0, 0, 1], 'ep': [0, 1, 0], 'de': 'you must wash your hands'}\n",
      "{'logits': [0.6141778826713562, -1.4141558408737183, 0.25848403573036194], 'probs': [0.5457795858383179, 0.07179978489875793, 0.38242068886756897], 'label': 'de'} {'dy': [0, 0, 1], 'ep': [0, 1, 0], 'de': [1, 0, 0]}\n",
      "59.2797783933518\n"
     ]
    },
    {
     "data": {
      "text/plain": [
       "({'should': {'total': 28, 'errors': 6, 'proportion': 0.21428571428571427},\n",
       "  'could': {'total': 38, 'errors': 24, 'proportion': 0.631578947368421},\n",
       "  'must': {'total': 117, 'errors': 62, 'proportion': 0.5299145299145299},\n",
       "  'may': {'total': 123, 'errors': 36, 'proportion': 0.2926829268292683},\n",
       "  'can': {'total': 55, 'errors': 19, 'proportion': 0.34545454545454546},\n",
       "  'shall': {'total': 0, 'errors': 0}},\n",
       " {'dy': {'total': 53, 'errors': 14, 'proportion': 0.2641509433962264},\n",
       "  'de': {'total': 113, 'errors': 28, 'proportion': 0.24778761061946902},\n",
       "  'ep': {'total': 195, 'errors': 105, 'proportion': 0.5384615384615384}})"
      ]
     },
     "execution_count": 73,
     "metadata": {},
     "output_type": "execute_result"
    }
   ],
   "source": [
    "eval_model(model_name=\"gme_all\", test_filepath=\"../../data/EPOS_E/test_EPOS+MPQA_re-balanced.jsonl\")"
   ]
  },
  {
   "cell_type": "code",
   "execution_count": 72,
   "metadata": {},
   "outputs": [
    {
     "name": "stderr",
     "output_type": "stream",
     "text": [
      "Did not use initialization regex that was passed: .*linear_layers.*weight\n"
     ]
    },
    {
     "name": "stdout",
     "output_type": "stream",
     "text": [
      "{'logits': [-0.5733402371406555, -0.019110115244984627, 0.4306058883666992], 'probs': [0.18282771110534668, 0.3182299733161926, 0.49894222617149353], 'label': 'dy'} {'dy': [0, 0, 1], 'ep': 'It must have been stillborn .', 'de': 'The evil is real , and it must be combated'}\n",
      "{'logits': [3.168025493621826, -0.2793894112110138, -3.4387171268463135], 'probs': [0.9678864479064941, 0.03080570325255394, 0.0013078334741294384], 'label': 'ep'} {'dy': [0, 0, 1], 'ep': [1, 0, 0], 'de': 'The evil is real , and it must be combated'}\n",
      "{'logits': [-0.6486820578575134, 1.5259498357772827, -1.4638288021087646], 'probs': [0.09764176607131958, 0.8591445088386536, 0.04321374371647835], 'label': 'de'} {'dy': [0, 0, 1], 'ep': [1, 0, 0], 'de': [0, 1, 0]}\n",
      "71.84466019417475\n"
     ]
    },
    {
     "data": {
      "text/plain": [
       "({'should': {'total': 34, 'errors': 1, 'proportion': 0.029411764705882353},\n",
       "  'could': {'total': 23, 'errors': 12, 'proportion': 0.5217391304347826},\n",
       "  'must': {'total': 17, 'errors': 1, 'proportion': 0.058823529411764705},\n",
       "  'may': {'total': 5, 'errors': 1, 'proportion': 0.2},\n",
       "  'can': {'total': 24, 'errors': 14, 'proportion': 0.5833333333333334}},\n",
       " {'dy': {'total': 31, 'errors': 19, 'proportion': 0.6129032258064516},\n",
       "  'de': {'total': 58, 'errors': 6, 'proportion': 0.10344827586206896},\n",
       "  'ep': {'total': 14, 'errors': 4, 'proportion': 0.2857142857142857}})"
      ]
     },
     "execution_count": 72,
     "metadata": {},
     "output_type": "execute_result"
    }
   ],
   "source": [
    "eval_model(model_name=\"epos_balanced\", test_filepath=\"../../data/GME/test_modal-BIOSE-coarse_only_modal_verbs.jsonl\")"
   ]
  }
 ],
 "metadata": {
  "kernelspec": {
   "display_name": "Python 3",
   "language": "python",
   "name": "python3"
  },
  "language_info": {
   "codemirror_mode": {
    "name": "ipython",
    "version": 3
   },
   "file_extension": ".py",
   "mimetype": "text/x-python",
   "name": "python",
   "nbconvert_exporter": "python",
   "pygments_lexer": "ipython3",
   "version": "3.7.5"
  }
 },
 "nbformat": 4,
 "nbformat_minor": 2
}
